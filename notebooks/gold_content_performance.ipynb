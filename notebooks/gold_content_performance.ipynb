{
 "cells": [
  {
   "cell_type": "markdown",
   "metadata": {
    "application/vnd.databricks.v1+cell": {
     "cellMetadata": {
      "byteLimit": 2048000,
      "rowLimit": 10000
     },
     "inputWidgets": {},
     "nuid": "7272fecc-e640-4311-82c5-e5bdd4804b48",
     "showTitle": false,
     "tableResultSettingsMap": {},
     "title": ""
    }
   },
   "source": [
    "# Gold Layer - Content Performance Analytics\n",
    "Business analytics-ready data for Power BI dashboards"
   ]
  },
  {
   "cell_type": "code",
   "execution_count": 0,
   "metadata": {
    "application/vnd.databricks.v1+cell": {
     "cellMetadata": {
      "byteLimit": 2048000,
      "rowLimit": 10000
     },
     "inputWidgets": {},
     "nuid": "8b814e21-91c2-4192-95e4-8498f0600ff0",
     "showTitle": false,
     "tableResultSettingsMap": {},
     "title": ""
    }
   },
   "outputs": [],
   "source": [
    "from pyspark.sql.functions import (\n",
    "    col, count, sum, avg, max, min, round, current_timestamp, current_date,\n",
    "    when, coalesce, concat_ws\n",
    ")\n",
    "from config import TARGET_CATALOG, SILVER_SCHEMA, GOLD_SCHEMA"
   ]
  },
  {
   "cell_type": "code",
   "execution_count": 0,
   "metadata": {
    "application/vnd.databricks.v1+cell": {
     "cellMetadata": {
      "byteLimit": 2048000,
      "rowLimit": 10000
     },
     "inputWidgets": {},
     "nuid": "897aaee3-0d59-4fe6-beca-c5f2edf8c923",
     "showTitle": false,
     "tableResultSettingsMap": {},
     "title": ""
    }
   },
   "outputs": [],
   "source": [
    "def create_content_performance():\n",
    "    \"\"\"\n",
    "    Create content performance analytics table\n",
    "    Combines assets and metrics for comprehensive content analysis\n",
    "    \n",
    "    Dimensions: content_id, video_title, content_type, genre, language, rating\n",
    "    Metrics: total_views, avg_completion_rate, avg_bitrate, buffering_events, performance_score\n",
    "    \"\"\"\n",
    "    \n",
    "    # Read silver tables\n",
    "    assets = spark.table(f\"{TARGET_CATALOG}.{SILVER_SCHEMA}.assets\")\n",
    "    metrics = spark.table(f\"{TARGET_CATALOG}.{SILVER_SCHEMA}.metrics\")\n",
    "    \n",
    "    # Aggregate metrics by content\n",
    "    metrics_agg = metrics.groupBy(\"content_id\").agg(\n",
    "        count(\"*\").alias(\"total_streams\"),\n",
    "        count(\"session_id\").alias(\"total_views\"),\n",
    "        avg(\"bit_rate\").alias(\"avg_bitrate_kbps\"),\n",
    "        sum(\"rebuffering_count\").alias(\"total_buffering_events\"))\n",
    "    \n",
    "    # Join with assets\n",
    "    assets_agg = assets.select(\n",
    "        \"content_id\",\n",
    "        \"video_title\",\n",
    "        \"content_category\",\n",
    "        \"content_freshness\",\n",
    "        \"genre\",\n",
    "        \"language\",\n",
    "        \"rating_category\",\n",
    "        \"content_duration_category\",\n",
    "        \"content_completeness_score\",\n",
    "        \"release_date\"\n",
    "    ).groupBy(\"content_id\").agg(\n",
    "        avg(\"content_completeness_score\").alias(\"avg_completion_rate\"),\n",
    "        max(\"content_completeness_score\").alias(\"max_completion_rate\"),\n",
    "        min(\"content_completeness_score\").alias(\"min_completion_rate\")\n",
    "    )\n",
    "    \n",
    "    gold = assets_agg.join(metrics_agg, \"content_id\", \"left\")\n",
    "    \n",
    "    # Add calculated metrics\n",
    "    gold = gold.withColumn(\"avg_buffering_per_stream\",\n",
    "        round(col(\"total_buffering_events\") / col(\"total_streams\"), 2)\n",
    "    )\n",
    "    \n",
    "    gold = gold.withColumn(\"completion_rate_category\",\n",
    "        when(col(\"avg_completion_rate\") >= 0.8, \"Excellent\")\n",
    "        .when(col(\"avg_completion_rate\") >= 0.6, \"Good\")\n",
    "        .when(col(\"avg_completion_rate\") >= 0.4, \"Fair\")\n",
    "        .otherwise(\"Poor\")\n",
    "    )\n",
    "    \n",
    "    gold = gold.withColumn(\"content_performance_tier\",\n",
    "        when((col(\"avg_completion_rate\") >= 0.7), \"Premium\")\n",
    "        .when((col(\"avg_completion_rate\") >= 0.5), \"Standard\")\n",
    "        .otherwise(\"Basic\")\n",
    "    )\n",
    "    \n",
    "    # Fill nulls for content without metrics\n",
    "    gold = gold.fillna(0, [\"total_streams\", \"total_views\", \"total_buffering_events\"])\n",
    "    gold = gold.fillna(0.0, [\"avg_completion_rate\", \"avg_bitrate_kbps\"])\n",
    "    \n",
    "    # Add metadata\n",
    "    gold = gold.withColumn(\"analytics_timestamp\", current_timestamp()) \\\n",
    "               .withColumn(\"analytics_date\", current_date())\n",
    "    \n",
    "    # Write to gold\n",
    "    target_table = f\"{TARGET_CATALOG}.{GOLD_SCHEMA}.content_performance\"\n",
    "    gold.write.format(\"delta\").mode(\"overwrite\").option(\"mergeSchema\", \"true\").saveAsTable(target_table)\n",
    "    \n",
    "    print(f\"Content Performance: {gold.count()} rows\")"
   ]
  },
  {
   "cell_type": "code",
   "execution_count": 0,
   "metadata": {
    "application/vnd.databricks.v1+cell": {
     "cellMetadata": {
      "byteLimit": 2048000,
      "rowLimit": 10000
     },
     "inputWidgets": {},
     "nuid": "534658b2-00df-4372-9edb-cc508d28b9eb",
     "showTitle": false,
     "tableResultSettingsMap": {},
     "title": ""
    }
   },
   "outputs": [
    {
     "output_type": "stream",
     "name": "stdout",
     "output_type": "stream",
     "text": [
      "Content Performance: 995050 rows\n"
     ]
    }
   ],
   "source": [
    "spark.sql(f\"CREATE SCHEMA IF NOT EXISTS {TARGET_CATALOG}.{GOLD_SCHEMA}\")\n",
    "create_content_performance()\n"
   ]
  }
 ],
 "metadata": {
  "application/vnd.databricks.v1+notebook": {
   "computePreferences": null,
   "dashboards": [],
   "environmentMetadata": null,
   "inputWidgetPreferences": null,
   "language": "python",
   "notebookMetadata": {
    "pythonIndentUnit": 4
   },
   "notebookName": "gold_content_performance",
   "widgets": {}
  },
  "language_info": {
   "name": "python"
  }
 },
 "nbformat": 4,
 "nbformat_minor": 0
}